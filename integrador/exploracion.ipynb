{
 "cells": [
  {
   "cell_type": "code",
   "execution_count": 1,
   "metadata": {},
   "outputs": [],
   "source": [
    "import pandas as pd\n",
    "import zipfile"
   ]
  },
  {
   "cell_type": "code",
   "execution_count": 2,
   "metadata": {},
   "outputs": [
    {
     "name": "stdout",
     "output_type": "stream",
     "text": [
      "data  exploracion.ipynb  readme.txt\n"
     ]
    }
   ],
   "source": [
    "!ls"
   ]
  },
  {
   "cell_type": "code",
   "execution_count": null,
   "metadata": {},
   "outputs": [],
   "source": [
    "zipfile"
   ]
  },
  {
   "cell_type": "code",
   "execution_count": 3,
   "metadata": {},
   "outputs": [
    {
     "name": "stdout",
     "output_type": "stream",
     "text": [
      "Archivo.zip  contratacionesabiertas_bulk.json.zip  datos.zip\n"
     ]
    }
   ],
   "source": [
    "!ls data/"
   ]
  },
  {
   "cell_type": "code",
   "execution_count": 3,
   "metadata": {},
   "outputs": [
    {
     "name": "stdout",
     "output_type": "stream",
     "text": [
      "data  exploracion.ipynb  readme.txt\n"
     ]
    }
   ],
   "source": [
    "!ls"
   ]
  },
  {
   "cell_type": "code",
   "execution_count": 4,
   "metadata": {},
   "outputs": [],
   "source": [
    "zf = zipfile.ZipFile('data/contratacionesabiertas_bulk.json.zip') \n"
   ]
  },
  {
   "cell_type": "code",
   "execution_count": 6,
   "metadata": {},
   "outputs": [
    {
     "data": {
      "text/plain": [
       "[<ZipInfo filename='20181127/contratacionesabiertas_bulk.json' compress_type=deflate filemode='-rw-rw-r--' file_size=5105787571 compress_size=504347313>]"
      ]
     },
     "execution_count": 6,
     "metadata": {},
     "output_type": "execute_result"
    }
   ],
   "source": [
    "zf.filelist"
   ]
  },
  {
   "cell_type": "code",
   "execution_count": 8,
   "metadata": {},
   "outputs": [],
   "source": [
    "contrataciones_abiertas = pd.read_json( zf.open(\"20181127/contratacionesabiertas_bulk.json\"))"
   ]
  },
  {
   "cell_type": "code",
   "execution_count": 9,
   "metadata": {},
   "outputs": [
    {
     "name": "stdout",
     "output_type": "stream",
     "text": [
      "'04_proveedores_contratistas_sancionados '\n",
      "'06_registro_proveedores_contratistas '\n",
      " 08_servidores_publicos_sancionados\n",
      " 17_servidores_publicos_contrataciones\n",
      " Archivo.zip\n",
      " contratacionesabiertas_bulk.json.zip\n"
     ]
    }
   ],
   "source": [
    "!ls data"
   ]
  },
  {
   "cell_type": "code",
   "execution_count": 23,
   "metadata": {},
   "outputs": [
    {
     "data": {
      "text/plain": [
       "0    [{'ocid': 'ocds-07smqs-1038', 'releases': [{'p...\n",
       "1    [{'ocid': 'ocds-07smqs-1072', 'releases': [{'p...\n",
       "2    [{'ocid': 'ocds-07smqs-1111', 'releases': [{'p...\n",
       "3    [{'ocid': 'ocds-07smqs-1117', 'releases': [{'p...\n",
       "4    [{'ocid': 'ocds-07smqs-1182', 'releases': [{'p...\n",
       "Name: records, dtype: object"
      ]
     },
     "execution_count": 23,
     "metadata": {},
     "output_type": "execute_result"
    }
   ],
   "source": [
    "contrataciones_abiertas[\"records\"].head()"
   ]
  },
  {
   "cell_type": "code",
   "execution_count": 36,
   "metadata": {},
   "outputs": [
    {
     "data": {
      "text/plain": [
       "[{'name': 'delegación SEDESOL en Tabasco',\n",
       "  'id': '20147',\n",
       "  'identifier': {'scheme': 'MX-CPA',\n",
       "   'id': '20147',\n",
       "   'legalName': 'delegación SEDESOL en Tabasco',\n",
       "   'schemeUrl': 'http://www.transparenciapresupuestaria.gob.mx/work/models/PTP/DatosAbiertos/Metadatos/catalogos_presupuestarios.xlsx'},\n",
       "  'additionalIdentifiers': [{'scheme': 'MX-CPA',\n",
       "    'id': '20',\n",
       "    'legalName': 'Desarrollo Social',\n",
       "    'schemeUrl': 'http://www.transparenciapresupuestaria.gob.mx/work/models/PTP/DatosAbiertos/Metadatos/catalogos_presupuestarios.xlsx'}],\n",
       "  'contactPoint': {'name': 'Gustavo Antonio Glori Tellechea'},\n",
       "  'roles': ['buyer']},\n",
       " {'name': 'JESUS ALBERTO ROSAS GARDUZA',\n",
       "  'id': '95F5D7F5DD77D73E3232026B4732232A',\n",
       "  'identifier': {'scheme': 'MX-RFC',\n",
       "   'id': '95F5D7F5DD77D73E3232026B4732232A',\n",
       "   'legalName': 'JESUS ALBERTO ROSAS GARDUZA',\n",
       "   'schemeUrl': 'https://portalsat.plataforma.sat.gob.mx/ConsultaRFC/'},\n",
       "  'contactPoint': {'name': 'JESUS A ROSAS GARDUZA'},\n",
       "  'roles': ['supplier']}]"
      ]
     },
     "execution_count": 36,
     "metadata": {},
     "output_type": "execute_result"
    }
   ],
   "source": [
    "contrataciones_abiertas[\"records\"][0][0][\"releases\"][0][\"parties\"]"
   ]
  },
  {
   "cell_type": "code",
   "execution_count": 51,
   "metadata": {},
   "outputs": [
    {
     "data": {
      "text/plain": [
       "'ocds-07smqs-1038'"
      ]
     },
     "execution_count": 51,
     "metadata": {},
     "output_type": "execute_result"
    }
   ],
   "source": [
    "contrataciones_abiertas[\"records\"][0][0][\"ocid\"]"
   ]
  },
  {
   "cell_type": "code",
   "execution_count": 65,
   "metadata": {},
   "outputs": [
    {
     "data": {
      "text/plain": [
       "_id                               {'$oid': '5bfc962b940a526b336ff15f'}\n",
       "extensions           [https://raw.githubusercontent.com/open-contra...\n",
       "license                                https://datos.gob.mx/libreusomx\n",
       "publicationPolicy    https://compranetinfo.funcionpublica.gob.mx/de...\n",
       "publishedDate                              2018-11-27T00:56:09.150984Z\n",
       "publisher            {'name': 'SECRETARÍA DE LA FUNCIÓN PÚBLICA / S...\n",
       "records              [{'ocid': 'ocds-07smqs-1038', 'releases': [{'p...\n",
       "uri                  https://api.datos.gob.mx/v2/contratacionesabie...\n",
       "version                                                            1.1\n",
       "Name: 0, dtype: object"
      ]
     },
     "execution_count": 65,
     "metadata": {},
     "output_type": "execute_result"
    }
   ],
   "source": [
    "contrataciones_abiertas.loc[0][\"records\"]"
   ]
  },
  {
   "cell_type": "code",
   "execution_count": 101,
   "metadata": {},
   "outputs": [],
   "source": [
    "import networkx as nx\n",
    "G=nx.DiGraph()\n",
    "for i,record in contrataciones_abiertas.iterrows():\n",
    "    G.add_node(record[\"records\"][0][\"ocid\"], type_entity='contrato')\n",
    "    for party in record[\"records\"][0][\"releases\"][0][\"parties\"]:\n",
    "        if \"supplier\" in party[\"roles\"]:G.add_node(party[\"id\"], type_entity='empresa')\n",
    "        if \"buyer\" in party[\"roles\"]: G.add_node(party[\"id\"], type_entity='institucion')\n",
    "        G.add_edge(record[\"records\"][0][\"ocid\"], party[\"id\"])"
   ]
  },
  {
   "cell_type": "code",
   "execution_count": 86,
   "metadata": {},
   "outputs": [
    {
     "data": {
      "text/plain": [
       "['ocds-07smqs-1038',\n",
       " '20147',\n",
       " '95F5D7F5DD77D73E3232026B4732232A',\n",
       " 'ocds-07smqs-1072',\n",
       " 'SDS060209QG3',\n",
       " 'ocds-07smqs-1111',\n",
       " '20135',\n",
       " 'SDS040719E51',\n",
       " 'ocds-07smqs-1117',\n",
       " '48D00']"
      ]
     },
     "execution_count": 86,
     "metadata": {},
     "output_type": "execute_result"
    }
   ],
   "source": []
  },
  {
   "cell_type": "code",
   "execution_count": 88,
   "metadata": {},
   "outputs": [],
   "source": [
    "%matplotlib inline"
   ]
  },
  {
   "cell_type": "code",
   "execution_count": 108,
   "metadata": {},
   "outputs": [
    {
     "data": {
      "image/png": "[encoded data removed]",
      "text/plain": [
       "<Figure size 432x288 with 1 Axes>"
      ]
     },
     "metadata": {
      "needs_background": "light"
     },
     "output_type": "display_data"
    }
   ],
   "source": [
    "nx.draw_networkx(G.subgraph(list(G.nodes())[0:30]), fig_size = [20,20])"
   ]
  },
  {
   "cell_type": "code",
   "execution_count": 14,
   "metadata": {},
   "outputs": [
    {
     "name": "stdout",
     "output_type": "stream",
     "text": [
      "diccionario  proveedores_sancionados.csv\n"
     ]
    }
   ],
   "source": [
    "!ls \"data/04_proveedores_contratistas_sancionados /proveedores_sancionados.csv\""
   ]
  },
  {
   "cell_type": "code",
   "execution_count": 21,
   "metadata": {},
   "outputs": [
    {
     "name": "stderr",
     "output_type": "stream",
     "text": [
      "b'Skipping line 1038: expected 12 fields, saw 13\\n'\n"
     ]
    }
   ],
   "source": [
    "contcontratistas_sancionados = pd.read_csv(\"data/04_proveedores_contratistas_sancionados /proveedores_sancionados.csv\", error_bad_lines=False, encoding=\"latin-1\")"
   ]
  },
  {
   "cell_type": "code",
   "execution_count": 48,
   "metadata": {},
   "outputs": [
    {
     "data": {
      "text/html": [
       "<div>\n",
       "<style scoped>\n",
       "    .dataframe tbody tr th:only-of-type {\n",
       "        vertical-align: middle;\n",
       "    }\n",
       "\n",
       "    .dataframe tbody tr th {\n",
       "        vertical-align: top;\n",
       "    }\n",
       "\n",
       "    .dataframe thead th {\n",
       "        text-align: right;\n",
       "    }\n",
       "</style>\n",
       "<table border=\"1\" class=\"dataframe\">\n",
       "  <thead>\n",
       "    <tr style=\"text-align: right;\">\n",
       "      <th></th>\n",
       "      <th>PROVEEDOR O CONTRATISTA</th>\n",
       "      <th>DEPENDENCIA</th>\n",
       "      <th>NUMERO DE EXPEDIENTE</th>\n",
       "      <th>HECHOS DE LA IRREGULARIDAD</th>\n",
       "      <th>OBJETO SOCIAL</th>\n",
       "      <th>SENTIDO DE RESOLUCION</th>\n",
       "      <th>FECHA DE NOTIFICACION</th>\n",
       "      <th>FECHA DE RESOLUCION</th>\n",
       "      <th>PLAZO</th>\n",
       "      <th>MONTO</th>\n",
       "      <th>NOMBRE DEL RESPONSABLE DE LA INFORMACION</th>\n",
       "      <th>FECHA DE ACTUALIZACION</th>\n",
       "    </tr>\n",
       "  </thead>\n",
       "  <tbody>\n",
       "    <tr>\n",
       "      <th>0</th>\n",
       "      <td>3R INNOVACIÓN Y DISEÑO  S.A. DE  C.V.</td>\n",
       "      <td>\\tINSTITUTO MEXICANO DEL SEGURO SOCIAL</td>\n",
       "      <td>\\t0041/2013</td>\n",
       "      <td>\\tLA EMPRESA POR CAUSAS IMPUTABLES A ELLA NO F...</td>\n",
       "      <td>\\t3RINNOVACION@LIVE.COM.MX.</td>\n",
       "      <td>\\tSANCIONATORIA CON MULTA</td>\n",
       "      <td>\\t19/08/2014</td>\n",
       "      <td>\\t06/08/2014</td>\n",
       "      <td>\\t</td>\n",
       "      <td>\\t90664.00</td>\n",
       "      <td>\\tLIC. JORGE PERALTA PORRAS</td>\n",
       "      <td>\\t06/12/2018 08:12</td>\n",
       "    </tr>\n",
       "    <tr>\n",
       "      <th>1</th>\n",
       "      <td>A AND P INTERNATIONAL</td>\n",
       "      <td>\\tPEMEX GAS Y PETROQUIMICA BASICA</td>\n",
       "      <td>\\t0002/2016</td>\n",
       "      <td>\\tLO PREVISTO EN EL NUMERAL 59  FRACCIÓN III  ...</td>\n",
       "      <td>\\t</td>\n",
       "      <td>\\tSANCIONATORIA CON MULTA E INHABILITACIÓN</td>\n",
       "      <td>\\t06/12/2016</td>\n",
       "      <td>\\t06/12/2016</td>\n",
       "      <td>\\t4 AÑOS</td>\n",
       "      <td>\\t1.00</td>\n",
       "      <td>\\t</td>\n",
       "      <td>\\t06/12/2018 08:12</td>\n",
       "    </tr>\n",
       "    <tr>\n",
       "      <th>2</th>\n",
       "      <td>A Y M CONSTRUCTORA  S.A. DE C.V.</td>\n",
       "      <td>\\tSECRETARIA DE COMUNICACIONES Y TRANSPORTES</td>\n",
       "      <td>\\t0121/2006</td>\n",
       "      <td>\\tPRESENTÓ INFORMACIÓN FALSA RESPECTO A ENCONT...</td>\n",
       "      <td>\\t</td>\n",
       "      <td>\\tSANCIONATORIA CON MULTA E INHABILITACIÓN</td>\n",
       "      <td>\\t05/04/2007</td>\n",
       "      <td>\\t23/03/2007</td>\n",
       "      <td>\\t3 MESES</td>\n",
       "      <td>\\t72540.00</td>\n",
       "      <td>\\tHECTOR MANUEL MONTES GAYTAN</td>\n",
       "      <td>\\t06/12/2018 08:12</td>\n",
       "    </tr>\n",
       "    <tr>\n",
       "      <th>3</th>\n",
       "      <td>A Y V INDUSTRIAL Y COMERCIAL  S.A. DE C.V.</td>\n",
       "      <td>\\tIII SERVICIOS  S. A. DE C. V.</td>\n",
       "      <td>\\t0001/2013</td>\n",
       "      <td>\\tPRESENTACION DE DOCUMENTACION E INFORMACION ...</td>\n",
       "      <td>\\tDISEÑAR  PROYECTAR  PLANEAR  ORGANIZAR  ASES...</td>\n",
       "      <td>\\tSANCIONATORIA CON MULTA E INHABILITACIÓN</td>\n",
       "      <td>\\t08/05/2014</td>\n",
       "      <td>\\t30/04/2014</td>\n",
       "      <td>\\t3 MESES</td>\n",
       "      <td>\\t133502.74</td>\n",
       "      <td>\\tEDUARDO  DE LA LUZ  GARCÍA</td>\n",
       "      <td>\\t06/12/2018 08:12</td>\n",
       "    </tr>\n",
       "    <tr>\n",
       "      <th>4</th>\n",
       "      <td>A&amp;S CONSTRUCTION GROUP S.A. DE C.V.</td>\n",
       "      <td>\\tADMINISTRACION PORTUARIA INTEGRAL DE DOS BOC...</td>\n",
       "      <td>\\t0002/2017</td>\n",
       "      <td>\\tPRESENTÓ INFORMACIÓN FALSA RESPECTO A ENCONT...</td>\n",
       "      <td>\\tREALIZACIÓN DE FLETES Y ACARREOS  LOCALES Y ...</td>\n",
       "      <td>\\tSANCIONATORIA CON MULTA E INHABILITACIÓN</td>\n",
       "      <td>\\t24/10/2018</td>\n",
       "      <td>\\t15/10/2018</td>\n",
       "      <td>\\t3 MESES</td>\n",
       "      <td>\\t113235.00</td>\n",
       "      <td>\\tJOSÉ GUADALUPE FÉLIX DE LA CRUZ</td>\n",
       "      <td>\\t06/12/2018 08:12</td>\n",
       "    </tr>\n",
       "  </tbody>\n",
       "</table>\n",
       "</div>"
      ],
      "text/plain": [
       "                      PROVEEDOR O CONTRATISTA  \\\n",
       "0       3R INNOVACIÓN Y DISEÑO  S.A. DE  C.V.   \n",
       "1                       A AND P INTERNATIONAL   \n",
       "2            A Y M CONSTRUCTORA  S.A. DE C.V.   \n",
       "3  A Y V INDUSTRIAL Y COMERCIAL  S.A. DE C.V.   \n",
       "4         A&S CONSTRUCTION GROUP S.A. DE C.V.   \n",
       "\n",
       "                                       \\tDEPENDENCIA  \\tNUMERO DE EXPEDIENTE  \\\n",
       "0             \\tINSTITUTO MEXICANO DEL SEGURO SOCIAL             \\t0041/2013   \n",
       "1                  \\tPEMEX GAS Y PETROQUIMICA BASICA             \\t0002/2016   \n",
       "2       \\tSECRETARIA DE COMUNICACIONES Y TRANSPORTES             \\t0121/2006   \n",
       "3                    \\tIII SERVICIOS  S. A. DE C. V.             \\t0001/2013   \n",
       "4  \\tADMINISTRACION PORTUARIA INTEGRAL DE DOS BOC...             \\t0002/2017   \n",
       "\n",
       "                        \\tHECHOS DE LA IRREGULARIDAD  \\\n",
       "0  \\tLA EMPRESA POR CAUSAS IMPUTABLES A ELLA NO F...   \n",
       "1  \\tLO PREVISTO EN EL NUMERAL 59  FRACCIÓN III  ...   \n",
       "2  \\tPRESENTÓ INFORMACIÓN FALSA RESPECTO A ENCONT...   \n",
       "3  \\tPRESENTACION DE DOCUMENTACION E INFORMACION ...   \n",
       "4  \\tPRESENTÓ INFORMACIÓN FALSA RESPECTO A ENCONT...   \n",
       "\n",
       "                                     \\tOBJETO SOCIAL  \\\n",
       "0                        \\t3RINNOVACION@LIVE.COM.MX.   \n",
       "1                                                 \\t   \n",
       "2                                                 \\t   \n",
       "3  \\tDISEÑAR  PROYECTAR  PLANEAR  ORGANIZAR  ASES...   \n",
       "4  \\tREALIZACIÓN DE FLETES Y ACARREOS  LOCALES Y ...   \n",
       "\n",
       "                      \\tSENTIDO DE RESOLUCION  \\tFECHA DE NOTIFICACION  \\\n",
       "0                   \\tSANCIONATORIA CON MULTA             \\t19/08/2014   \n",
       "1  \\tSANCIONATORIA CON MULTA E INHABILITACIÓN             \\t06/12/2016   \n",
       "2  \\tSANCIONATORIA CON MULTA E INHABILITACIÓN             \\t05/04/2007   \n",
       "3  \\tSANCIONATORIA CON MULTA E INHABILITACIÓN             \\t08/05/2014   \n",
       "4  \\tSANCIONATORIA CON MULTA E INHABILITACIÓN             \\t24/10/2018   \n",
       "\n",
       "   \\tFECHA DE RESOLUCION    \\tPLAZO      \\tMONTO  \\\n",
       "0           \\t06/08/2014         \\t   \\t90664.00   \n",
       "1           \\t06/12/2016   \\t4 AÑOS       \\t1.00   \n",
       "2           \\t23/03/2007  \\t3 MESES   \\t72540.00   \n",
       "3           \\t30/04/2014  \\t3 MESES  \\t133502.74   \n",
       "4           \\t15/10/2018  \\t3 MESES  \\t113235.00   \n",
       "\n",
       "   \\tNOMBRE DEL RESPONSABLE DE LA INFORMACION  \\tFECHA DE ACTUALIZACION   \n",
       "0                 \\tLIC. JORGE PERALTA PORRAS         \\t06/12/2018 08:12  \n",
       "1                                          \\t         \\t06/12/2018 08:12  \n",
       "2               \\tHECTOR MANUEL MONTES GAYTAN         \\t06/12/2018 08:12  \n",
       "3                \\tEDUARDO  DE LA LUZ  GARCÍA         \\t06/12/2018 08:12  \n",
       "4           \\tJOSÉ GUADALUPE FÉLIX DE LA CRUZ         \\t06/12/2018 08:12  "
      ]
     },
     "execution_count": 48,
     "metadata": {},
     "output_type": "execute_result"
    }
   ],
   "source": [
    "contratistas_sancionados.head(5)"
   ]
  },
  {
   "cell_type": "code",
   "execution_count": 38,
   "metadata": {},
   "outputs": [
    {
     "name": "stdout",
     "output_type": "stream",
     "text": [
      "'04_proveedores_contratistas_sancionados '\n",
      "'06_registro_proveedores_contratistas '\n",
      " 08_servidores_publicos_sancionados\n",
      " 17_servidores_publicos_contrataciones\n",
      " Archivo.zip\n",
      " contratacionesabiertas_bulk.json.zip\n"
     ]
    }
   ],
   "source": [
    "!ls data"
   ]
  },
  {
   "cell_type": "code",
   "execution_count": 41,
   "metadata": {},
   "outputs": [
    {
     "name": "stdout",
     "output_type": "stream",
     "text": [
      "diccionario  diccionario_reniresp.xlsx\n"
     ]
    }
   ],
   "source": [
    "!ls data/17_servidores_publicos_contrataciones"
   ]
  },
  {
   "cell_type": "code",
   "execution_count": 47,
   "metadata": {},
   "outputs": [],
   "source": [
    "servidores_sancionados = pd.read_excel(\"data/17_servidores_publicos_contrataciones/diccionario_reniresp.xlsx\", error_bad_lines=False, encoding=\"latin-1\")"
   ]
  },
  {
   "cell_type": "code",
   "execution_count": 49,
   "metadata": {},
   "outputs": [],
   "source": [
    "import networkx"
   ]
  },
  {
   "cell_type": "code",
   "execution_count": null,
   "metadata": {},
   "outputs": [],
   "source": []
  }
 ],
 "metadata": {
  "kernelspec": {
   "display_name": "Python 3",
   "language": "python",
   "name": "python3"
  },
  "language_info": {
   "codemirror_mode": {
    "name": "ipython",
    "version": 3
   },
   "file_extension": ".py",
   "mimetype": "text/x-python",
   "name": "python",
   "nbconvert_exporter": "python",
   "pygments_lexer": "ipython3",
   "version": "3.6.7"
  }
 },
 "nbformat": 4,
 "nbformat_minor": 2
}

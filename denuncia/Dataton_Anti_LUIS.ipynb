{
 "cells": [
  {
   "cell_type": "code",
   "execution_count": 91,
   "metadata": {},
   "outputs": [
    {
     "name": "stdout",
     "output_type": "stream",
     "text": [
      "{'query': 'el alcalde se quedo con los programas', 'topScoringIntent': {'intent': 'desvio', 'score': 0.352428526}, 'entities': [{'entity': 'alcalde', 'type': 'Sustantivos', 'startIndex': 3, 'endIndex': 9, 'score': 0.7438803}]}\n"
     ]
    }
   ],
   "source": [
    "##Python y LUIS\n",
    "\n",
    "import requests\n",
    "\n",
    "headers = {\n",
    "    # Request headers\n",
    "    'Ocp-Apim-Subscription-Key': '8d6e12b4843a4544af2fda5629514d2e',\n",
    "}\n",
    "\n",
    "params ={\n",
    "    # Query parameter\n",
    "    'q': 'el alcalde se quedo con los programas' ,\n",
    "    # Optional request parameters, set to default values\n",
    "    'timezoneOffset': '0',\n",
    "    'verbose': 'false',\n",
    "    'spellCheck': 'false',\n",
    "    'staging': 'false',\n",
    "}\n",
    "\n",
    "try:\n",
    "    r = requests.get('https://westus.api.cognitive.microsoft.com/luis/v2.0/apps/d2c8af4c-bb1e-4391-88f9-ed453724d377?',headers=headers, params=params)\n",
    "    print(r.json())\n",
    "\n",
    "except Exception as e:\n",
    "    print(\"[Errno {0}] {1}\".format(e.errno, e.strerror))\n",
    "\n",
    "####################################"
   ]
  }
 ],
 "metadata": {
  "kernelspec": {
   "display_name": "Python 3",
   "language": "python",
   "name": "python3"
  },
  "language_info": {
   "codemirror_mode": {
    "name": "ipython",
    "version": 3
   },
   "file_extension": ".py",
   "mimetype": "text/x-python",
   "name": "python",
   "nbconvert_exporter": "python",
   "pygments_lexer": "ipython3",
   "version": "3.6.7"
  }
 },
 "nbformat": 4,
 "nbformat_minor": 2
}
